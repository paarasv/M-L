{
 "cells": [
  {
   "cell_type": "code",
   "execution_count": 3,
   "id": "f1daeaf7",
   "metadata": {},
   "outputs": [
    {
     "name": "stdout",
     "output_type": "stream",
     "text": [
      "M, C: 1.2826766107657592 8.976970373683173\n",
      "Train Score: 0.5965034084136014\n",
      "Test Score: 0.5625818711567036\n"
     ]
    }
   ],
   "source": [
    "import numpy as np \n",
    "data = np.loadtxt(\"data.csv\",delimiter=\",\")\n",
    "x = data[:,0]\n",
    "y = data[:,1]\n",
    "from sklearn import model_selection\n",
    "X_train,X_test,Y_train,Y_test=model_selection.train_test_split(x,y,test_size=0.3)\n",
    "\n",
    "def fit(x_train, y_train):\n",
    "    num = (x_train*y_train).mean() - x_train.mean() * y_train.mean()\n",
    "    den = (x_train**2).mean() - x_train.mean()**2\n",
    "    m = num/den\n",
    "    c = y_train.mean() - m * x_train.mean()\n",
    "    return m, c\n",
    "\n",
    "def predict(x,m,c):\n",
    "    return m*x+c\n",
    "\n",
    "def score(y_truth,y_pred):\n",
    "    u=((y_truth-y_pred)**2).sum()\n",
    "    v=((y_truth-y_truth.mean())**2).sum()\n",
    "    return 1-u/v\n",
    "\n",
    "def cost(x,y,m,c):\n",
    "    return((y-m*x-c)**2).mean()\n",
    "\n",
    "# training the model and get the values of m and c\n",
    "m, c = fit(X_train, Y_train)\n",
    "\n",
    "# make predictions on the test data\n",
    "y_test_pred = predict(X_test, m, c)\n",
    "\n",
    "# compute the score on the test data\n",
    "test_score = score(Y_test, y_test_pred)\n",
    "\n",
    "# make predictions on the train data\n",
    "y_train_pred = predict(X_train, m, c)\n",
    "\n",
    "# compute the score on the train data\n",
    "train_score = score(Y_train, y_train_pred)\n",
    "\n",
    "# print the model parameters and scores\n",
    "print(\"M, C:\", m, c)\n",
    "print(\"Train Score:\", train_score)\n",
    "print(\"Test Score:\", test_score)\n"
   ]
  },
  {
   "cell_type": "code",
   "execution_count": null,
   "id": "f6fa4d6c",
   "metadata": {},
   "outputs": [],
   "source": []
  }
 ],
 "metadata": {
  "kernelspec": {
   "display_name": "Python 3 (ipykernel)",
   "language": "python",
   "name": "python3"
  },
  "language_info": {
   "codemirror_mode": {
    "name": "ipython",
    "version": 3
   },
   "file_extension": ".py",
   "mimetype": "text/x-python",
   "name": "python",
   "nbconvert_exporter": "python",
   "pygments_lexer": "ipython3",
   "version": "3.9.13"
  }
 },
 "nbformat": 4,
 "nbformat_minor": 5
}
